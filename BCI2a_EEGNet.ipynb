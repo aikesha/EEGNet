{
 "cells": [
  {
   "cell_type": "markdown",
   "metadata": {},
   "source": [
    "# EEGNet"
   ]
  },
  {
   "cell_type": "markdown",
   "metadata": {},
   "source": [
    "### Import Library"
   ]
  },
  {
   "cell_type": "code",
   "execution_count": 1,
   "metadata": {
    "tags": []
   },
   "outputs": [
    {
     "data": {
      "text/plain": [
       "<torch._C.Generator at 0x1fc47b90370>"
      ]
     },
     "execution_count": 1,
     "metadata": {},
     "output_type": "execute_result"
    }
   ],
   "source": [
    "import torch \n",
    "import itertools\n",
    "import pandas as pd \n",
    "import pickle \n",
    "import numpy as np\n",
    "import mne\n",
    "\n",
    "torch.manual_seed(0)"
   ]
  },
  {
   "cell_type": "markdown",
   "metadata": {},
   "source": [
    "### Select Dataset \n"
   ]
  },
  {
   "cell_type": "code",
   "execution_count": 3,
   "metadata": {},
   "outputs": [],
   "source": [
    "datasets = ['aBNCI2014001R.pickle', 'aBNCI2014004R.pickle', 'aWeibo2014R.pickle', 'aPhysionetRR.pickle']"
   ]
  },
  {
   "cell_type": "code",
   "execution_count": 4,
   "metadata": {},
   "outputs": [],
   "source": [
    "def load_data(filename):\n",
    "    with open(filename, 'rb') as handle:\n",
    "        data = pickle.load(handle)\n",
    "    return data"
   ]
  },
  {
   "cell_type": "code",
   "execution_count": 5,
   "metadata": {},
   "outputs": [],
   "source": [
    "data = load_data(datasets[0])"
   ]
  },
  {
   "cell_type": "code",
   "execution_count": 7,
   "metadata": {},
   "outputs": [],
   "source": [
    "class_name = ['left_hand', 'right_hand']"
   ]
  },
  {
   "cell_type": "markdown",
   "metadata": {},
   "source": [
    "## GPU Device"
   ]
  },
  {
   "cell_type": "code",
   "execution_count": 8,
   "metadata": {},
   "outputs": [
    {
     "name": "stdout",
     "output_type": "stream",
     "text": [
      "Your GPU device name : NVIDIA GeForce RTX 3060 Laptop GPU\n"
     ]
    }
   ],
   "source": [
    "import torch\n",
    "dev = torch.device(\"cuda\" if torch.cuda.is_available() else \"cpu\")\n",
    "\n",
    "if dev.type == 'cuda':\n",
    "    print('Your GPU device name :', torch.cuda.get_device_name())    "
   ]
  },
  {
   "cell_type": "markdown",
   "metadata": {},
   "source": [
    "### EEGNet Model"
   ]
  },
  {
   "cell_type": "code",
   "execution_count": 9,
   "metadata": {},
   "outputs": [],
   "source": [
    "import torch\n",
    "import torch.nn as nn\n",
    "import torch.optim as optim\n",
    "import torch.nn.functional as F"
   ]
  },
  {
   "cell_type": "code",
   "execution_count": 10,
   "metadata": {},
   "outputs": [],
   "source": [
    "class EEGNet(nn.Module):\n",
    "    def __init__(self, n_channels, n_time_samples, n_classes):\n",
    "        super(EEGNet, self).__init__()\n",
    "        # Layer 1\n",
    "        self.first_conv = nn.Sequential(\n",
    "            nn.Conv2d(1, 16, (1, n_time_samples//2), stride=(1, 1), padding=(0, n_time_samples//4)),\n",
    "            nn.BatchNorm2d(16, eps=1e-05, momentum=0.1)\n",
    "        )\n",
    "        # Layer 2\n",
    "        self.depthwise_conv = nn.Sequential(\n",
    "            nn.Conv2d(16, 32, (n_channels, 1), stride=(1, 1), groups=16),\n",
    "            nn.BatchNorm2d(32, eps=1e-05, momentum=0.1),\n",
    "            nn.ELU(alpha=1.0),\n",
    "            nn.AvgPool2d(kernel_size=(1, 4), stride=(1, 4), padding=0),\n",
    "            nn.Dropout(p=0.5)\n",
    "        )\n",
    "        # Layer 3\n",
    "        self.separable_conv = nn.Sequential(\n",
    "            nn.Conv2d(32, 32, (1, 16), stride=(1, 1), padding=(0, 8)),\n",
    "            nn.BatchNorm2d(32, eps=1e-05, momentum=0.1),\n",
    "            nn.ELU(alpha=1.0),\n",
    "            nn.AvgPool2d(kernel_size=(1, 8), stride=(1, 8), padding=0),\n",
    "            nn.Dropout(p=0.5)\n",
    "        )\n",
    "        \n",
    "        self.classify = nn.Sequential(\n",
    "            nn.Linear(in_features=32, out_features=n_classes, bias=True)\n",
    "        )\n",
    "\n",
    "    def forward(self, x):\n",
    "        x = self.first_conv(x)\n",
    "        x = self.depthwise_conv(x)\n",
    "        x = self.separable_conv(x)\n",
    "        x = torch.mean(x, 3)\n",
    "        x = x.permute(0, 2, 1).contiguous()\n",
    "        x = self.classify(x)\n",
    "        return x.squeeze()"
   ]
  }
 ],
 "metadata": {
  "kernelspec": {
   "display_name": "ms_thesis",
   "language": "python",
   "name": "ms_thesis"
  },
  "language_info": {
   "codemirror_mode": {
    "name": "ipython",
    "version": 3
   },
   "file_extension": ".py",
   "mimetype": "text/x-python",
   "name": "python",
   "nbconvert_exporter": "python",
   "pygments_lexer": "ipython3",
   "version": "3.8.0"
  },
  "toc-autonumbering": false,
  "toc-showtags": false,
  "vscode": {
   "interpreter": {
    "hash": "1da26fe8b4841f25b30d8e7d45a01290a83117774a98895b256a7034f6ffcd31"
   }
  }
 },
 "nbformat": 4,
 "nbformat_minor": 4
}
